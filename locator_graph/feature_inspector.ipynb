{
  "nbformat": 4,
  "nbformat_minor": 0,
  "metadata": {
    "colab": {
      "provenance": []
    },
    "kernelspec": {
      "name": "python3",
      "display_name": "Python 3"
    },
    "language_info": {
      "name": "python"
    }
  },
  "cells": [
    {
      "cell_type": "code",
      "execution_count": null,
      "metadata": {
        "id": "xUIQQGzEW_hv"
      },
      "outputs": [],
      "source": [
        "import pandas as pd\n",
        "from sklearn.model_selection import train_test_split\n",
        "from sklearn.preprocessing import LabelEncoder, StandardScaler\n",
        "from sklearn.neural_network import MLPClassifier\n",
        "from sklearn.metrics import classification_report, accuracy_score\n",
        "from sklearn.impute import SimpleImputer # import the imputer\n",
        "\n",
        "# Load the dataset\n",
        "df = pd.read_csv('generated_dataset_with_buggy_features.csv')\n",
        "\n",
        "# Convert categorical features to numerical values using Label Encoding\n",
        "label_encoders = {}\n",
        "for column in ['node_type', 'activation', 'recurrent_activation',\n",
        "               'kernel_regularizer', 'recurrent_regularizer',\n",
        "               'bias_regularizer', 'activity_regularizer', 'buggy_feature']:\n",
        "    le = LabelEncoder()\n",
        "    df[column] = le.fit_transform(df[column].astype(str))\n",
        "    label_encoders[column] = le\n",
        "\n",
        "# Separate features and target\n",
        "X = df.drop(columns=['buggy_feature'])\n",
        "y = df['buggy_feature']\n",
        "\n",
        "# Split the data into training and testing sets\n",
        "X_train, X_test, y_train, y_test = train_test_split(X, y, test_size=0.2, random_state=42)\n",
        "\n",
        "imputer = SimpleImputer(strategy='mean') # create an instance of the imputer\n",
        "X_train = imputer.fit_transform(X_train) # fit and transform on the training data\n",
        "X_test = imputer.transform(X_test) # transform the testing data\n",
        "\n",
        "\n",
        "# Standardize the features\n",
        "scaler = StandardScaler()\n",
        "X_train = scaler.fit_transform(X_train)\n",
        "X_test = scaler.transform(X_test)\n",
        "\n",
        "# Build the MLP model\n",
        "mlp = MLPClassifier(hidden_layer_sizes=(64, 32), max_iter=500, random_state=42)\n",
        "\n",
        "# Train the model\n",
        "mlp.fit(X_train, y_train)\n",
        "\n",
        "# Predict the buggy features on the test set\n",
        "y_pred = mlp.predict(X_test)\n",
        "\n",
        "# Evaluate the model\n",
        "accuracy = accuracy_score(y_test, y_pred)\n",
        "report = classification_report(y_test, y_pred, target_names=label_encoders['buggy_feature'].classes_)\n",
        "\n",
        "print(f'Accuracy: {accuracy:.2f}')\n",
        "print('Classification Report:')\n",
        "print(report)"
      ]
    }
  ]
}